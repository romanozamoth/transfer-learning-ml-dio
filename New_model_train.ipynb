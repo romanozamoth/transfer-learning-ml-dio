{
  "cells": [
    {
      "cell_type": "markdown",
      "metadata": {
        "id": "view-in-github",
        "colab_type": "text"
      },
      "source": [
        "<a href=\"https://colab.research.google.com/github/romanozamoth/transfer-learning-ml-dio/blob/main/New_model_train.ipynb\" target=\"_parent\"><img src=\"https://colab.research.google.com/assets/colab-badge.svg\" alt=\"Open In Colab\"/></a>"
      ]
    },
    {
      "cell_type": "code",
      "execution_count": null,
      "metadata": {
        "id": "rIrw0rzbN7xB",
        "collapsed": true
      },
      "outputs": [],
      "source": [
        "!pip install transformers torch torchvision scikit-learn pillow\n"
      ]
    },
    {
      "cell_type": "code",
      "execution_count": null,
      "metadata": {
        "id": "n3C3ojHwODYf"
      },
      "outputs": [],
      "source": [
        "from transformers import CLIPProcessor, CLIPModel\n",
        "from PIL import Image\n",
        "import torch\n",
        "import os\n",
        "import numpy as np\n",
        "from sklearn.linear_model import LogisticRegression\n",
        "import joblib\n"
      ]
    },
    {
      "cell_type": "code",
      "execution_count": null,
      "metadata": {
        "id": "DPboO-GaOFN0",
        "collapsed": true
      },
      "outputs": [],
      "source": [
        "from zipfile import ZipFile\n",
        "from google.colab import files\n",
        "\n",
        "# Subir o seu dataset.zip com os modelos que quer treinar\n",
        "uploaded = files.upload()\n",
        "\n",
        "# Supondo que você fez upload de dataset.zip com estrutura de pastas\n",
        "with ZipFile(\"dataset.zip\", \"r\") as zip_ref:\n",
        "    zip_ref.extractall(\"dataset\")\n"
      ]
    },
    {
      "cell_type": "code",
      "execution_count": null,
      "metadata": {
        "id": "xSssYfuhOKiv",
        "collapsed": true
      },
      "outputs": [],
      "source": [
        "# Carrega modelo CLIP\n",
        "processor = CLIPProcessor.from_pretrained(\"openai/clip-vit-base-patch32\")\n",
        "model = CLIPModel.from_pretrained(\"openai/clip-vit-base-patch32\").to(\"cpu\")\n",
        "\n",
        "def get_clip_features(image_path):\n",
        "    image = Image.open(image_path).convert(\"RGB\")\n",
        "    inputs = processor(images=image, return_tensors=\"pt\").to(\"cpu\")\n",
        "    with torch.no_grad():\n",
        "        features = model.get_image_features(**inputs)\n",
        "    return features[0].numpy()\n",
        "\n",
        "X, y = [], []\n",
        "labels = [\"cachorro\", \"pato\", \"passaro\", \"peixe\"]\n",
        "base_path = \"dataset/\"\n",
        "\n",
        "for label in labels:\n",
        "    for file in os.listdir(f\"{base_path}/{label}\"):\n",
        "        path = os.path.join(base_path, label, file)\n",
        "        if path.lower().endswith((\".png\", \".jpg\", \".jpeg\")):\n",
        "            feat = get_clip_features(path)\n",
        "            X.append(feat)\n",
        "            y.append(label)\n",
        "\n",
        "clf = LogisticRegression(max_iter=1000)\n",
        "clf.fit(X, y)\n"
      ]
    },
    {
      "cell_type": "code",
      "execution_count": null,
      "metadata": {
        "id": "xib6eyyNOSc7"
      },
      "outputs": [],
      "source": [
        "joblib.dump(clf, \"modelo_clip.pkl\")\n"
      ]
    },
    {
      "cell_type": "code",
      "execution_count": null,
      "metadata": {
        "id": "86Dv1a6SOWJM"
      },
      "outputs": [],
      "source": [
        "from google.colab import files\n",
        "files.download(\"modelo_clip.pkl\")\n"
      ]
    },
    {
      "cell_type": "code",
      "execution_count": null,
      "metadata": {
        "id": "XzC0JuHgOWx9"
      },
      "outputs": [],
      "source": [
        "import joblib\n",
        "clf = joblib.load(\"modelo_clip.pkl\")\n"
      ]
    },
    {
      "cell_type": "code",
      "execution_count": null,
      "metadata": {
        "id": "NJJ4F1fiPj7Z"
      },
      "outputs": [],
      "source": [
        "# TESTAR MODELO\n",
        "from PIL import Image\n",
        "from google.colab import files\n",
        "import matplotlib.pyplot as plt\n",
        "\n",
        "# Função para prever e exibir resultado\n",
        "def prever_imagem(path_imagem):\n",
        "    # Abrir e exibir imagem\n",
        "    img = Image.open(path_imagem).convert(\"RGB\")\n",
        "\n",
        "    # Extrair embeddings e fazer predição\n",
        "    features = get_clip_features(path_imagem)  # Essa função deve estar definida antes\n",
        "    predicao = clf.predict([features])[0]\n",
        "\n",
        "    # Exibir imagem com título da predição\n",
        "    plt.imshow(img)\n",
        "    plt.axis('off')\n",
        "    plt.title(f\"Predição: {predicao}\")\n",
        "    plt.show()\n",
        "\n",
        "# Fazer upload de imagem\n",
        "uploaded = files.upload()\n",
        "\n",
        "# Para cada imagem enviada, mostrar predição\n",
        "for fn in uploaded.keys():\n",
        "    prever_imagem(fn)\n"
      ]
    }
  ],
  "metadata": {
    "colab": {
      "provenance": [],
      "authorship_tag": "ABX9TyNFXnTLPdpJCvpgqcG11R1V",
      "include_colab_link": true
    },
    "kernelspec": {
      "display_name": "Python 3",
      "name": "python3"
    },
    "language_info": {
      "name": "python"
    }
  },
  "nbformat": 4,
  "nbformat_minor": 0
}